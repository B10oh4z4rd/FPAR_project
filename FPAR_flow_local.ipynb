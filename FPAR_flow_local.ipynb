{
 "cells": [
  {
   "cell_type": "code",
   "execution_count": 7,
   "metadata": {
    "scrolled": true
   },
   "outputs": [
    {
     "data": {
      "text/plain": [
       "ERROR: Could not find `tensorboard`. Please ensure that your PATH\n",
       "contains an executable `tensorboard` program, or explicitly specify\n",
       "the path to a TensorBoard binary by setting the `TENSORBOARD_BINARY`\n",
       "environment variable."
      ]
     },
     "metadata": {},
     "output_type": "display_data"
    },
    {
     "data": {
      "text/plain": [
       "512"
      ]
     },
     "execution_count": 7,
     "metadata": {},
     "output_type": "execute_result"
    }
   ],
   "source": [
    "import os\n",
    "import traceback\n",
    "import sys\n",
    "\n",
    "#if not os.path.isdir('./ego-rnn/'):\n",
    "#  ! git clone https://github.com/swathikirans/ego-rnn\n",
    "    \n",
    "#if os.path.isdir('./experiments'):\n",
    "#  !rm -r ./experiments\n",
    "try:\n",
    "    import tensorboardX\n",
    "except:\n",
    "    exe_cmd(\"pip3 install tensorboardX\")\n",
    "    os.system(exe_cmd)\n",
    "    import tensorboardX\n",
    "\n",
    "outputDir = './experiments'\n",
    "if os.path.isdir(outputDir):\n",
    "  next_experiment = outputDir + \"/\" + str(len(os.listdir(outputDir)) + 1)\n",
    "  cmd_string = f'mkdir {next_experiment}'\n",
    "  os.system(cmd_string)\n",
    "  outputDir =  next_experiment\n",
    "    \n",
    "%reload_ext tensorboardX\n",
    "%tensorboard --logdir experiments\n",
    "#%run ./ego-rnn/main-run-flow.py --dataset gtea61 --dataDir ../GTEA61 --trainDataset S1,S3,S4 --valDataset S2 --stackSize 5\n",
    "exe_cmd = f\"python3 ./FPAR_project/ego-rnn/main-run-flow.py --dataset gtea61 --dataDir ./GTEA61 --outDir {outputDir} --stackSize 5\"\n",
    "os.system(exe_cmd)"
   ]
  },
  {
   "cell_type": "code",
   "execution_count": null,
   "metadata": {},
   "outputs": [],
   "source": []
  },
  {
   "cell_type": "code",
   "execution_count": null,
   "metadata": {},
   "outputs": [],
   "source": []
  },
  {
   "cell_type": "code",
   "execution_count": null,
   "metadata": {},
   "outputs": [],
   "source": []
  }
 ],
 "metadata": {
  "kernelspec": {
   "display_name": ".venv",
   "language": "python",
   "name": ".venv"
  },
  "language_info": {
   "codemirror_mode": {
    "name": "ipython",
    "version": 3
   },
   "file_extension": ".py",
   "mimetype": "text/x-python",
   "name": "python",
   "nbconvert_exporter": "python",
   "pygments_lexer": "ipython3",
   "version": "3.8.2"
  }
 },
 "nbformat": 4,
 "nbformat_minor": 2
}
