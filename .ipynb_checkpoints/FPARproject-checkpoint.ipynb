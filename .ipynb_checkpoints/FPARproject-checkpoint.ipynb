{
 "cells": [
  {
   "cell_type": "markdown",
   "metadata": {
    "colab_type": "text",
    "id": "view-in-github"
   },
   "source": [
    "<a href=\"https://colab.research.google.com/github/B10oh4z4rd/FPAR_project/blob/master/FPARproject.ipynb\" target=\"_parent\"><img src=\"https://colab.research.google.com/assets/colab-badge.svg\" alt=\"Open In Colab\"/></a>"
   ]
  },
  {
   "cell_type": "markdown",
   "metadata": {
    "colab_type": "text",
    "id": "Fz-oEIJkM0ta"
   },
   "source": [
    "#Dataset Download stage"
   ]
  },
  {
   "cell_type": "code",
   "execution_count": 0,
   "metadata": {
    "colab": {},
    "colab_type": "code",
    "id": "Ix9a9cS09RsA"
   },
   "outputs": [],
   "source": [
    "import os\n",
    "import traceback\n",
    "try:\n",
    "  os.chdir('/content/drive/My Drive/FPAR_project')\n",
    "  if not os.path.isdir('./GTEA61/'):\n",
    "    if not os.path.isdir('./GTEA61.zip'):\n",
    "      !gdown https://drive.google.com/uc?id=1Z5RWA8yKIy0PvxMlScV-aAz22ITtivfk\n",
    "      #!ls \".\"\n",
    "      !mv \"content/drive/My\\ Drive/GTEA61.zip\" \"./\"\n",
    "    !unzip \"./GTEA61.zip\"\n",
    "except:\n",
    "    try: \n",
    "  traceback.print_exc()\n",
    "!pwd\n",
    "#!du -hcs \"./drive/My\\ Drive/\""
   ]
  },
  {
   "cell_type": "markdown",
   "metadata": {
    "colab_type": "text",
    "id": "LkxSDQuB5G0t"
   },
   "source": [
    "\n",
    "# Downloading scripts from the repository"
   ]
  },
  {
   "cell_type": "code",
   "execution_count": 0,
   "metadata": {
    "colab": {},
    "colab_type": "code",
    "id": "gNs1p3X6M5qv"
   },
   "outputs": [],
   "source": [
    "if not os.path.isdir('./ego-rnn/'):\n",
    "  ! git clone https://github.com/swathikirans/ego-rnn\n",
    "  !mv \"content/drive/My\\ Drive/ego-rnn\" \"./\""
   ]
  },
  {
   "cell_type": "markdown",
   "metadata": {
    "colab_type": "text",
    "id": "7MDSh0tjO4hO"
   },
   "source": [
    "#Training by calling the scripts \n",
    "Training sets : s1,s3,s4\\\n",
    "Validation set: s2\\\n",
    "Test set: s2 (same as validation)"
   ]
  },
  {
   "cell_type": "code",
   "execution_count": 0,
   "metadata": {
    "colab": {},
    "colab_type": "code",
    "id": "bA7jHG4nPBcF"
   },
   "outputs": [],
   "source": [
    "#To use this one we need to modify the makeDatasetRGD.py script\n",
    "'''\n",
    "python main-run-rgb.py --dataset gtea_61 \n",
    "--stage 1 \n",
    "--trainDatasetDir ./dataset/gtea_61/split2/train \n",
    "--outDir experiments \n",
    "--seqLen 25 \n",
    "--trainBatchSize 32 \n",
    "--numEpochs 300 \n",
    "--lr 1e-3 \n",
    "--stepSize 25 75 150 \n",
    "--decayRate 0.1 \n",
    "--memSize 512'''"
   ]
  },
  {
   "cell_type": "code",
   "execution_count": 1,
   "metadata": {},
   "outputs": [
    {
     "ename": "NameError",
     "evalue": "name 'os' is not defined",
     "output_type": "error",
     "traceback": [
      "\u001b[0;31m---------------------------------------------------------------------------\u001b[0m",
      "\u001b[0;31mNameError\u001b[0m                                 Traceback (most recent call last)",
      "\u001b[0;32m<ipython-input-1-e343df8c9f0a>\u001b[0m in \u001b[0;36m<module>\u001b[0;34m\u001b[0m\n\u001b[0;32m----> 1\u001b[0;31m \u001b[0mos\u001b[0m\u001b[0;34m.\u001b[0m\u001b[0mchdir\u001b[0m\u001b[0;34m(\u001b[0m\u001b[0;34m'/content/drive/My Drive/FPAR_project/ego-rnn'\u001b[0m\u001b[0;34m)\u001b[0m\u001b[0;34m\u001b[0m\u001b[0;34m\u001b[0m\u001b[0m\n\u001b[0m\u001b[1;32m      2\u001b[0m \u001b[0mget_ipython\u001b[0m\u001b[0;34m(\u001b[0m\u001b[0;34m)\u001b[0m\u001b[0;34m.\u001b[0m\u001b[0msystem\u001b[0m\u001b[0;34m(\u001b[0m\u001b[0;34m'pwd'\u001b[0m\u001b[0;34m)\u001b[0m\u001b[0;34m\u001b[0m\u001b[0;34m\u001b[0m\u001b[0m\n",
      "\u001b[0;31mNameError\u001b[0m: name 'os' is not defined"
     ]
    }
   ],
   "source": [
    "os.chdir('/content/drive/My Drive/FPAR_project/ego-rnn')\n",
    "!pwd"
   ]
  },
  {
   "cell_type": "code",
   "execution_count": null,
   "metadata": {},
   "outputs": [],
   "source": []
  }
 ],
 "metadata": {
  "colab": {
   "authorship_tag": "ABX9TyOjHQ1cQvRtuuL5qgnu2UWO",
   "collapsed_sections": [],
   "include_colab_link": true,
   "mount_file_id": "1jpVWJSNoOGz_wZbY1YDLvCYV2Pf2PySD",
   "name": "FPARproject.ipynb",
   "provenance": []
  },
  "kernelspec": {
   "display_name": "Python 3",
   "language": "python",
   "name": "python3"
  },
  "language_info": {
   "codemirror_mode": {
    "name": "ipython",
    "version": 3
   },
   "file_extension": ".py",
   "mimetype": "text/x-python",
   "name": "python",
   "nbconvert_exporter": "python",
   "pygments_lexer": "ipython3",
   "version": "3.8.2"
  }
 },
 "nbformat": 4,
 "nbformat_minor": 1
}
