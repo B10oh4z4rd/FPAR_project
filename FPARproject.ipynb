{
  "nbformat": 4,
  "nbformat_minor": 0,
  "metadata": {
    "colab": {
      "name": "FPARproject.ipynb",
      "provenance": [],
      "collapsed_sections": [],
      "mount_file_id": "1jpVWJSNoOGz_wZbY1YDLvCYV2Pf2PySD",
      "authorship_tag": "ABX9TyOjHQ1cQvRtuuL5qgnu2UWO",
      "include_colab_link": true
    },
    "kernelspec": {
      "name": "python3",
      "display_name": "Python 3"
    }
  },
  "cells": [
    {
      "cell_type": "markdown",
      "metadata": {
        "id": "view-in-github",
        "colab_type": "text"
      },
      "source": [
        "<a href=\"https://colab.research.google.com/github/B10oh4z4rd/FPAR_project/blob/master/FPARproject.ipynb\" target=\"_parent\"><img src=\"https://colab.research.google.com/assets/colab-badge.svg\" alt=\"Open In Colab\"/></a>"
      ]
    },
    {
      "cell_type": "markdown",
      "metadata": {
        "id": "Fz-oEIJkM0ta",
        "colab_type": "text"
      },
      "source": [
        "#Dataset Download stage"
      ]
    },
    {
      "cell_type": "code",
      "metadata": {
        "id": "Ix9a9cS09RsA",
        "colab_type": "code",
        "colab": {}
      },
      "source": [
        "import os\n",
        "import traceback\n",
        "try:\n",
        "  os.chdir('/content/drive/My Drive/FPAR_project')\n",
        "  if not os.path.isdir('./GTEA61/'):\n",
        "    if not os.path.isdir('./GTEA61.zip'):\n",
        "      !gdown https://drive.google.com/uc?id=1Z5RWA8yKIy0PvxMlScV-aAz22ITtivfk\n",
        "      #!ls \".\"\n",
        "      !mv \"content/drive/My\\ Drive/GTEA61.zip\" \"./\"\n",
        "    !unzip \"./GTEA61.zip\"\n",
        "except:\n",
        "  traceback.print_exc()\n",
        "!pwd\n",
        "#!du -hcs \"./drive/My\\ Drive/\""
      ],
      "execution_count": 0,
      "outputs": []
    },
    {
      "cell_type": "markdown",
      "metadata": {
        "id": "LkxSDQuB5G0t",
        "colab_type": "text"
      },
      "source": [
        "\n",
        "# Downloading scripts from the repository"
      ]
    },
    {
      "cell_type": "code",
      "metadata": {
        "id": "gNs1p3X6M5qv",
        "colab_type": "code",
        "colab": {}
      },
      "source": [
        "if not os.path.isdir('./ego-rnn/'):\n",
        "  ! git clone https://github.com/swathikirans/ego-rnn\n",
        "  !mv \"content/drive/My\\ Drive/ego-rnn\" \"./\""
      ],
      "execution_count": 0,
      "outputs": []
    },
    {
      "cell_type": "markdown",
      "metadata": {
        "id": "7MDSh0tjO4hO",
        "colab_type": "text"
      },
      "source": [
        "#Training by calling the scripts \n",
        "Training sets : s1,s3,s4\\\n",
        "Validation set: s2\\\n",
        "Test set: s2 (same as validation)"
      ]
    },
    {
      "cell_type": "code",
      "metadata": {
        "id": "bA7jHG4nPBcF",
        "colab_type": "code",
        "colab": {}
      },
      "source": [
        "#To use this one we need to modify the makeDatasetRGD.py script\n",
        "'''\n",
        "python main-run-rgb.py --dataset gtea_61 \n",
        "--stage 1 \n",
        "--trainDatasetDir ./dataset/gtea_61/split2/train \n",
        "--outDir experiments \n",
        "--seqLen 25 \n",
        "--trainBatchSize 32 \n",
        "--numEpochs 300 \n",
        "--lr 1e-3 \n",
        "--stepSize 25 75 150 \n",
        "--decayRate 0.1 \n",
        "--memSize 512'''"
      ],
      "execution_count": 0,
      "outputs": []
    }
  ]
}